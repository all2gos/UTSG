{
  "cells": [
    {
      "cell_type": "markdown",
      "metadata": {
        "id": "RWQW6-BequN-"
      },
      "source": [
        "# USTG"
      ]
    },
    {
      "cell_type": "code",
      "execution_count": 1,
      "metadata": {
        "colab": {
          "base_uri": "https://localhost:8080/"
        },
        "id": "iEq4bV2C1a5R",
        "outputId": "09b7fe07-758b-44ab-fae1-9b87df3d447e"
      },
      "outputs": [],
      "source": [
        "!pip -q install selfies\n",
        "!pip -q install rdkit"
      ]
    },
    {
      "cell_type": "code",
      "execution_count": 2,
      "metadata": {
        "id": "fh2G4D9eh1_E"
      },
      "outputs": [],
      "source": [
        "import torch\n",
        "import torch.nn as nn\n",
        "from torch.nn import functional as F\n",
        "import time\n",
        "import pandas as pd\n",
        "import selfies as sf\n",
        "import re\n"
      ]
    },
    {
      "cell_type": "markdown",
      "metadata": {
        "id": "CKcDiIa4pd1R"
      },
      "source": [
        "## Data Preparation"
      ]
    },
    {
      "cell_type": "code",
      "execution_count": 3,
      "metadata": {},
      "outputs": [
        {
          "name": "stdout",
          "output_type": "stream",
          "text": [
            "(29547, 3)\n",
            "[^][In][Branch2][Ring1][=C][C][Branch1][=Branch2][\n"
          ]
        }
      ],
      "source": [
        "import pandas as pd\n",
        "\n",
        "pd.options.mode.chained_assignment = None\n",
        "\n",
        "SMILESdb = pd.read_csv('sample_db_only_smiles.csv')\n",
        "print(SMILESdb.shape)\n",
        "SMILESdb.head()\n",
        "\n",
        "def encode_smiles(smiles):\n",
        "    try:\n",
        "        return sf.encoder(smiles)\n",
        "    except Exception as e:\n",
        "        return ''\n",
        "\n",
        "SMILESdb['smiles'] = SMILESdb['smiles'].apply(encode_smiles)\n",
        "\n",
        "SMILES = SMILESdb[SMILESdb['smiles'] != '']\n",
        "\n",
        "SMILES['smiles'].to_csv('sample.txt', index=False)\n",
        "\n",
        "bag_of_chem = ''.join(['[^]' + smiles for smiles in SMILESdb['smiles']])\n",
        "print(bag_of_chem[:50])"
      ]
    },
    {
      "cell_type": "markdown",
      "metadata": {
        "id": "jOcZ5xjKpmKW"
      },
      "source": [
        "## Tokenization"
      ]
    },
    {
      "cell_type": "code",
      "execution_count": 4,
      "metadata": {},
      "outputs": [
        {
          "name": "stdout",
          "output_type": "stream",
          "text": [
            "Iteration: 1, most often pair: [C][=C], occurs 197636 times, length of all tokenized data set: 2004504\n",
            "Iteration: 2, most often pair: [C][C], occurs 181151 times, length of all tokenized data set: 1806868\n",
            "Iteration: 3, most often pair: [C][=C][C][=C], occurs 86732 times, length of all tokenized data set: 1688682\n",
            "Iteration: 4, most often pair: [Branch1][C][C], occurs 65978 times, length of all tokenized data set: 1633669\n",
            "[^][In][Branch2][Ring1][=C][C][Branch1][=Branch2][Si][Branch1][C][C][Branch1][C][C][C][Branch1][=Branch2][Si]\n"
          ]
        }
      ],
      "source": [
        "from tokenizer import Tokenizer\n",
        "\n",
        "t = Tokenizer(bag_of_chem)\n",
        "\n",
        "t.train_bpe(bag_of_chem, 4)\n",
        "\n",
        "loaded_vocab = t.load()\n",
        "testy = t.encode('[^][In][Branch2][Ring1][=C][C][Branch1][=Branch2][Si][Branch1][C][C][Branch1][C][C][C][Branch1][=Branch2][Si]', loaded_vocab)\n",
        "\n",
        "print(t.decode(testy, loaded_vocab))"
      ]
    },
    {
      "cell_type": "markdown",
      "metadata": {
        "id": "82YzLYRMpqon"
      },
      "source": [
        "## Architecture"
      ]
    },
    {
      "cell_type": "code",
      "execution_count": null,
      "metadata": {
        "id": "xKkMzx9FhrZT"
      },
      "outputs": [],
      "source": []
    },
    {
      "cell_type": "code",
      "execution_count": null,
      "metadata": {},
      "outputs": [],
      "source": []
    },
    {
      "cell_type": "markdown",
      "metadata": {
        "id": "P7TE5CsVpw-d"
      },
      "source": [
        "## Training"
      ]
    },
    {
      "cell_type": "code",
      "execution_count": 5,
      "metadata": {
        "colab": {
          "base_uri": "https://localhost:8080/"
        },
        "id": "VD-5imbRiFBK",
        "outputId": "697244d4-f2e9-42f2-9b65-356fb8a8901f"
      },
      "outputs": [
        {
          "ename": "NameError",
          "evalue": "name 'train_data' is not defined",
          "output_type": "error",
          "traceback": [
            "\u001b[1;31m---------------------------------------------------------------------------\u001b[0m",
            "\u001b[1;31mNameError\u001b[0m                                 Traceback (most recent call last)",
            "Cell \u001b[1;32mIn[5], line 20\u001b[0m\n\u001b[0;32m     17\u001b[0m \u001b[38;5;28;01mfor\u001b[39;00m step \u001b[38;5;129;01min\u001b[39;00m \u001b[38;5;28mrange\u001b[39m(MAX_ITERS):\n\u001b[0;32m     19\u001b[0m     \u001b[38;5;28;01mif\u001b[39;00m step \u001b[38;5;241m%\u001b[39m EVAL_ITERS \u001b[38;5;241m==\u001b[39m \u001b[38;5;241m0\u001b[39m \u001b[38;5;129;01mor\u001b[39;00m step \u001b[38;5;241m==\u001b[39m MAX_ITERS\u001b[38;5;241m-\u001b[39m\u001b[38;5;241m1\u001b[39m:\n\u001b[1;32m---> 20\u001b[0m         losses \u001b[38;5;241m=\u001b[39m \u001b[43mestimate_loss\u001b[49m\u001b[43m(\u001b[49m\u001b[43mmodel\u001b[49m\u001b[43m)\u001b[49m\n\u001b[0;32m     21\u001b[0m         \u001b[38;5;28mprint\u001b[39m(\u001b[38;5;124m'\u001b[39m\u001b[38;5;124mStep:\u001b[39m\u001b[38;5;124m'\u001b[39m,step,\u001b[38;5;124m'\u001b[39m\u001b[38;5;124mTraining Loss:\u001b[39m\u001b[38;5;124m'\u001b[39m,losses[\u001b[38;5;124m'\u001b[39m\u001b[38;5;124mtrain\u001b[39m\u001b[38;5;124m'\u001b[39m],\u001b[38;5;124m'\u001b[39m\u001b[38;5;124mValidation Loss:\u001b[39m\u001b[38;5;124m'\u001b[39m,losses[\u001b[38;5;124m'\u001b[39m\u001b[38;5;124mvalid\u001b[39m\u001b[38;5;124m'\u001b[39m])\n\u001b[0;32m     23\u001b[0m     xb,yb \u001b[38;5;241m=\u001b[39m get_batch(\u001b[38;5;124m'\u001b[39m\u001b[38;5;124mtrain\u001b[39m\u001b[38;5;124m'\u001b[39m,BATCH_SIZE,CONTEXT_LEN)\n",
            "File \u001b[1;32mc:\\Users\\stott\\anaconda3\\envs\\ds_env\\Lib\\site-packages\\torch\\utils\\_contextlib.py:115\u001b[0m, in \u001b[0;36mcontext_decorator.<locals>.decorate_context\u001b[1;34m(*args, **kwargs)\u001b[0m\n\u001b[0;32m    112\u001b[0m \u001b[38;5;129m@functools\u001b[39m\u001b[38;5;241m.\u001b[39mwraps(func)\n\u001b[0;32m    113\u001b[0m \u001b[38;5;28;01mdef\u001b[39;00m \u001b[38;5;21mdecorate_context\u001b[39m(\u001b[38;5;241m*\u001b[39margs, \u001b[38;5;241m*\u001b[39m\u001b[38;5;241m*\u001b[39mkwargs):\n\u001b[0;32m    114\u001b[0m     \u001b[38;5;28;01mwith\u001b[39;00m ctx_factory():\n\u001b[1;32m--> 115\u001b[0m         \u001b[38;5;28;01mreturn\u001b[39;00m \u001b[43mfunc\u001b[49m\u001b[43m(\u001b[49m\u001b[38;5;241;43m*\u001b[39;49m\u001b[43margs\u001b[49m\u001b[43m,\u001b[49m\u001b[43m \u001b[49m\u001b[38;5;241;43m*\u001b[39;49m\u001b[38;5;241;43m*\u001b[39;49m\u001b[43mkwargs\u001b[49m\u001b[43m)\u001b[49m\n",
            "File \u001b[1;32mc:\\Users\\stott\\Desktop\\UTSG\\transformer.py:129\u001b[0m, in \u001b[0;36mestimate_loss\u001b[1;34m(model)\u001b[0m\n\u001b[0;32m    127\u001b[0m losses \u001b[38;5;241m=\u001b[39m torch\u001b[38;5;241m.\u001b[39mzeros(EVAL_ITERS)\n\u001b[0;32m    128\u001b[0m \u001b[38;5;28;01mfor\u001b[39;00m k \u001b[38;5;129;01min\u001b[39;00m \u001b[38;5;28mrange\u001b[39m(EVAL_ITERS):\n\u001b[1;32m--> 129\u001b[0m     x_batch, y_batch \u001b[38;5;241m=\u001b[39m \u001b[43mget_batch\u001b[49m\u001b[43m(\u001b[49m\u001b[43msplit\u001b[49m\u001b[43m,\u001b[49m\u001b[43m \u001b[49m\u001b[43mBATCH_SIZE\u001b[49m\u001b[43m,\u001b[49m\u001b[43m \u001b[49m\u001b[43mCONTEXT_LEN\u001b[49m\u001b[43m)\u001b[49m\n\u001b[0;32m    130\u001b[0m     logits, loss \u001b[38;5;241m=\u001b[39m model(x_batch, y_batch)\n\u001b[0;32m    131\u001b[0m     losses[k] \u001b[38;5;241m=\u001b[39m loss\u001b[38;5;241m.\u001b[39mitem()\n",
            "File \u001b[1;32mc:\\Users\\stott\\Desktop\\UTSG\\transformer.py:113\u001b[0m, in \u001b[0;36mget_batch\u001b[1;34m(split, batch_size, context_length)\u001b[0m\n\u001b[0;32m    112\u001b[0m \u001b[38;5;28;01mdef\u001b[39;00m \u001b[38;5;21mget_batch\u001b[39m(split, batch_size, context_length):\n\u001b[1;32m--> 113\u001b[0m     data \u001b[38;5;241m=\u001b[39m \u001b[43mtrain_data\u001b[49m \u001b[38;5;28;01mif\u001b[39;00m split \u001b[38;5;241m==\u001b[39m \u001b[38;5;124m'\u001b[39m\u001b[38;5;124mtrain\u001b[39m\u001b[38;5;124m'\u001b[39m \u001b[38;5;28;01melse\u001b[39;00m valid_data\n\u001b[0;32m    115\u001b[0m     idxs \u001b[38;5;241m=\u001b[39m torch\u001b[38;5;241m.\u001b[39mrandint(low\u001b[38;5;241m=\u001b[39m\u001b[38;5;241m0\u001b[39m, high\u001b[38;5;241m=\u001b[39m\u001b[38;5;28mlen\u001b[39m(data)\u001b[38;5;241m-\u001b[39mCONTEXT_LEN, size\u001b[38;5;241m=\u001b[39m(BATCH_SIZE,))\n\u001b[0;32m    116\u001b[0m     x \u001b[38;5;241m=\u001b[39m torch\u001b[38;5;241m.\u001b[39mstack([data[idx:idx\u001b[38;5;241m+\u001b[39mCONTEXT_LEN] \u001b[38;5;28;01mfor\u001b[39;00m idx \u001b[38;5;129;01min\u001b[39;00m idxs])\n",
            "\u001b[1;31mNameError\u001b[0m: name 'train_data' is not defined"
          ]
        }
      ],
      "source": [
        "#conventional training loop\n",
        "\n",
        "from transformer import *\n",
        "data = torch.tensor(t.encode(bag_of_chem, loaded_vocab))\n",
        "\n",
        "train_test_split = 0.9\n",
        "train_data = data[:int(train_test_split*len(data))]\n",
        "valid_data = data[int(train_test_split*len(data)):]\n",
        "\n",
        "\n",
        "#conventional training loop\n",
        "model = TransformerLanguageModel()\n",
        "model = model.to(DEVICE)\n",
        "optimizer = torch.optim.AdamW(params=model.parameters(), lr=LEARNING_RATE)\n",
        "best_val_loss = 10\n",
        "\n",
        "for step in range(MAX_ITERS):\n",
        "\n",
        "    if step % EVAL_ITERS == 0 or step == MAX_ITERS-1:\n",
        "        losses = estimate_loss(model, train_data, valid_data)\n",
        "        print('Step:',step,'Training Loss:',losses['train'],'Validation Loss:',losses['valid'])\n",
        "\n",
        "    xb,yb = get_batch('train', train_data, valid_data, BATCH_SIZE, CONTEXT_LEN)\n",
        "    logits, loss = model(xb,yb)\n",
        "    optimizer.zero_grad(set_to_none=True)\n",
        "    loss.backward()\n",
        "    optimizer.step()\n",
        "\n",
        "context = torch.zeros((1,1), dtype=torch.long, device=DEVICE)"
      ]
    },
    {
      "cell_type": "code",
      "execution_count": null,
      "metadata": {},
      "outputs": [
        {
          "name": "stdout",
          "output_type": "stream",
          "text": [
            "[Branch1][C][C][CH0]\n",
            "[W@@][#PH0]\n",
            "\n",
            "\n",
            "\n",
            "\n",
            "\n",
            "\n",
            "\n",
            "[FeH1][Ring2][C][SiH1][Fe]\n",
            "\n",
            "\n",
            "\n",
            "\n",
            "[Fe][Branch1][Ring2][Ring1][Branch1][=Branch2][Branch2][Ring2][=N][PH0][=C][Ring1][=Branch1]\n",
            "\n",
            "[Pt][CH1]\n",
            "\n",
            "[CH2][#Branch1][Branch1][#Branch1][=Co][N][Branch1].[Cl]\n",
            "[OsH1][OH0][CH0][OH0]\n",
            "[Pt][Branch1][Fe][Branch1][=C][C][=Branch1][=N][CH1][Branch1][=Branch2][C][=C][Ring1][=Branch1][#Branch2][Re][CH0][Branch1][Branch2]\n",
            "[=C][C][=C][C][=C][Ring1][=Branch2][Ring2][Branch1][Branch1][C][=Branch1][PH0][Ring2][C][=C][C][C][=C][Ring1][Branch1][C][=C][Ring1][=Branch1][C][=C][Ring1][#Branch1][=C][C][=C][Branch1][#Branch1][Branch1][=Branch1][CH0][CH0][Branch1][=Branch2][C][Ring1][=Branch2][C][=C][/CH1]\n",
            "[Cl].[=Branch2][C][=C][C][#C][Cl]\n",
            "\n",
            "[Fe][Branch1][#Branch2][C][Cl][Branch2][Ring2]\n",
            "[S][Branch1][=Branch2][N][Branch1][=Branch2][Cl][Branch1][#Branch1][C][=C][Branch1][=Branch2][C][N][Ring1][=Branch2][Branch2][Ring2][Ge][Branch2][Ring2][Ring2][Ring1][#Branch1][O][Ring1][#Branch1][Branch1][C]\n",
            "[Ti@@][N][#Branch1][C][=Branch1][=Branch2][N][Branch1][=Branch2][Ring1][=Branch1][PH0][PH0]\n",
            "[\\P][CH1][Ring1][Fe][CH0][OH0]\n",
            "[CH0][OH0][Branch1][=C][C][=C]\n"
          ]
        }
      ],
      "source": [
        "new_structure = model.generate(context,max_new_tokens=200)[0].tolist()\n",
        "new_structure_decode = t.decode(new_structure, loaded_vocab).split('[^]')\n",
        "\n",
        "for ch in new_structure_decode:\n",
        "  print(ch)"
      ]
    },
    {
      "cell_type": "markdown",
      "metadata": {
        "id": "EEAZ82oFpyy6"
      },
      "source": [
        "## Results"
      ]
    },
    {
      "cell_type": "code",
      "execution_count": null,
      "metadata": {
        "colab": {
          "base_uri": "https://localhost:8080/"
        },
        "id": "1pQkWGnH4Tjq",
        "outputId": "55d4f3c0-3847-4e7c-b5b8-5286ef313f5b"
      },
      "outputs": [
        {
          "data": {
            "text/plain": [
              "['CC[CH0]',\n",
              " '[W@@]#[PH0]',\n",
              " '',\n",
              " '',\n",
              " '',\n",
              " '',\n",
              " '',\n",
              " '',\n",
              " '',\n",
              " '[FeH1][Fe]',\n",
              " '',\n",
              " '',\n",
              " '',\n",
              " '',\n",
              " '[Fe]1[PH0]=C1',\n",
              " '',\n",
              " '[Pt][CH1]',\n",
              " '',\n",
              " '[CH2][Co]N.Cl',\n",
              " '[OsH1][OH0][CH0][OH0]',\n",
              " '[Pt]1=CC[CH1]C=C1[Re][CH0]',\n",
              " 'C=1C=CC=C=1',\n",
              " 'Cl.C=CC#CCl',\n",
              " '',\n",
              " '[Fe]CCl',\n",
              " 'S(NCl)#N',\n",
              " '[Ti@@]1NN1',\n",
              " 'P=[CH1][CH0][OH0]',\n",
              " '[CH0][OH0]CC=C']"
            ]
          },
          "execution_count": 13,
          "metadata": {},
          "output_type": "execute_result"
        }
      ],
      "source": [
        "output_smi = []\n",
        "for el in new_structure_decode:\n",
        "  output_smi.append(sf.decoder(el))\n",
        "output_smi"
      ]
    },
    {
      "cell_type": "code",
      "execution_count": null,
      "metadata": {
        "colab": {
          "base_uri": "https://localhost:8080/",
          "height": 317
        },
        "id": "Wd_9gb8j45pt",
        "outputId": "6707b9d5-d5a5-4645-f967-248abe7fe3ef"
      },
      "outputs": [
        {
          "data": {
            "image/jpeg": "[encoded data removed]",
            "image/png": "[encoded data removed]",
            "text/plain": [
              "<PIL.PngImagePlugin.PngImageFile image mode=RGB size=300x300>"
            ]
          },
          "execution_count": 17,
          "metadata": {},
          "output_type": "execute_result"
        }
      ],
      "source": [
        "from rdkit import Chem\n",
        "from rdkit.Chem import Draw\n",
        "\n",
        "import numpy as np\n",
        "\n",
        "m = Chem.MolFromSmiles(output_smi[-4])\n",
        "img = Draw.MolToImage(m)\n",
        "img"
      ]
    }
  ],
  "metadata": {
    "accelerator": "GPU",
    "colab": {
      "gpuType": "T4",
      "provenance": [],
      "toc_visible": true
    },
    "kernelspec": {
      "display_name": "Python 3",
      "name": "python3"
    },
    "language_info": {
      "codemirror_mode": {
        "name": "ipython",
        "version": 3
      },
      "file_extension": ".py",
      "mimetype": "text/x-python",
      "name": "python",
      "nbconvert_exporter": "python",
      "pygments_lexer": "ipython3",
      "version": "3.11.5"
    }
  },
  "nbformat": 4,
  "nbformat_minor": 0
}
