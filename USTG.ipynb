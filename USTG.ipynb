{
  "cells": [
    {
      "cell_type": "markdown",
      "metadata": {
        "id": "RWQW6-BequN-"
      },
      "source": [
        "# USTG"
      ]
    },
    {
      "cell_type": "code",
      "execution_count": 1,
      "metadata": {
        "colab": {
          "base_uri": "https://localhost:8080/"
        },
        "id": "iEq4bV2C1a5R",
        "outputId": "09b7fe07-758b-44ab-fae1-9b87df3d447e"
      },
      "outputs": [],
      "source": [
        "!pip -q install selfies\n",
        "!pip -q install rdkit"
      ]
    },
    {
      "cell_type": "code",
      "execution_count": 2,
      "metadata": {
        "id": "fh2G4D9eh1_E"
      },
      "outputs": [],
      "source": [
        "import torch\n",
        "import torch.nn as nn\n",
        "from torch.nn import functional as F\n",
        "import time\n",
        "import pandas as pd\n",
        "import selfies as sf\n",
        "import re\n"
      ]
    },
    {
      "cell_type": "markdown",
      "metadata": {
        "id": "CKcDiIa4pd1R"
      },
      "source": [
        "## Data Preparation"
      ]
    },
    {
      "cell_type": "code",
      "execution_count": 3,
      "metadata": {},
      "outputs": [
        {
          "name": "stdout",
          "output_type": "stream",
          "text": [
            "(29547, 3)\n",
            "[^][In][Branch2][Ring1][=C][C][Branch1][=Branch2][\n"
          ]
        }
      ],
      "source": [
        "import pandas as pd\n",
        "\n",
        "pd.options.mode.chained_assignment = None\n",
        "\n",
        "SMILESdb = pd.read_csv('sample_db_only_smiles.csv')\n",
        "print(SMILESdb.shape)\n",
        "SMILESdb.head()\n",
        "\n",
        "def encode_smiles(smiles):\n",
        "    try:\n",
        "        return sf.encoder(smiles)\n",
        "    except Exception as e:\n",
        "        return ''\n",
        "\n",
        "SMILESdb['smiles'] = SMILESdb['smiles'].apply(encode_smiles)\n",
        "\n",
        "SMILES = SMILESdb[SMILESdb['smiles'] != '']\n",
        "\n",
        "SMILES['smiles'].to_csv('sample.txt', index=False)\n",
        "\n",
        "bag_of_chem = ''.join(['[^]' + smiles for smiles in SMILESdb['smiles']])\n",
        "print(bag_of_chem[:50])"
      ]
    },
    {
      "cell_type": "markdown",
      "metadata": {
        "id": "jOcZ5xjKpmKW"
      },
      "source": [
        "## Tokenization"
      ]
    },
    {
      "cell_type": "code",
      "execution_count": 4,
      "metadata": {},
      "outputs": [
        {
          "name": "stdout",
          "output_type": "stream",
          "text": [
            "Iteration: 1, most often pair: [C][=C], occurs 197636 times, length of all tokenized data set: 2004504\n",
            "Iteration: 2, most often pair: [C][C], occurs 181151 times, length of all tokenized data set: 1806868\n",
            "Iteration: 3, most often pair: [C][=C][C][=C], occurs 86732 times, length of all tokenized data set: 1688682\n",
            "Iteration: 4, most often pair: [Branch1][C][C], occurs 65978 times, length of all tokenized data set: 1633669\n",
            "[^][In][Branch2][Ring1][=C][C][Branch1][=Branch2][Si][Branch1][C][C][Branch1][C][C][C][Branch1][=Branch2][Si]\n"
          ]
        }
      ],
      "source": [
        "from tokenizer import Tokenizer\n",
        "\n",
        "t = Tokenizer(bag_of_chem)\n",
        "\n",
        "t.train_bpe(bag_of_chem, 4)\n",
        "\n",
        "loaded_vocab = t.load()\n",
        "testy = t.encode('[^][In][Branch2][Ring1][=C][C][Branch1][=Branch2][Si][Branch1][C][C][Branch1][C][C][C][Branch1][=Branch2][Si]', loaded_vocab)\n",
        "\n",
        "print(t.decode(testy, loaded_vocab))"
      ]
    },
    {
      "cell_type": "markdown",
      "metadata": {
        "id": "82YzLYRMpqon"
      },
      "source": [
        "## Architecture"
      ]
    },
    {
      "cell_type": "code",
      "execution_count": null,
      "metadata": {
        "id": "xKkMzx9FhrZT"
      },
      "outputs": [],
      "source": []
    },
    {
      "cell_type": "code",
      "execution_count": null,
      "metadata": {},
      "outputs": [],
      "source": []
    },
    {
      "cell_type": "markdown",
      "metadata": {
        "id": "P7TE5CsVpw-d"
      },
      "source": [
        "## Training"
      ]
    },
    {
      "cell_type": "code",
      "execution_count": 5,
      "metadata": {
        "colab": {
          "base_uri": "https://localhost:8080/"
        },
        "id": "VD-5imbRiFBK",
        "outputId": "697244d4-f2e9-42f2-9b65-356fb8a8901f"
      },
      "outputs": [
        {
          "name": "stdout",
          "output_type": "stream",
          "text": [
            "Step: 0 Training Loss: tensor(6.5622) Validation Loss: tensor(6.5983)\n",
            "Step: 199 Training Loss: tensor(2.2659) Validation Loss: tensor(2.3227)\n"
          ]
        }
      ],
      "source": [
        "#conventional training loop\n",
        "\n",
        "from transformer import *\n",
        "data = torch.tensor(t.encode(bag_of_chem, loaded_vocab))\n",
        "\n",
        "train_test_split = 0.9\n",
        "train_data = data[:int(train_test_split*len(data))]\n",
        "valid_data = data[int(train_test_split*len(data)):]\n",
        "\n",
        "\n",
        "#conventional training loop\n",
        "model = TransformerLanguageModel()\n",
        "model = model.to(DEVICE)\n",
        "optimizer = torch.optim.AdamW(params=model.parameters(), lr=LEARNING_RATE)\n",
        "best_val_loss = 10\n",
        "\n",
        "for step in range(MAX_ITERS):\n",
        "\n",
        "    if step % EVAL_ITERS == 0 or step == MAX_ITERS-1:\n",
        "        losses = estimate_loss(model, train_data, valid_data)\n",
        "        print('Step:',step,'Training Loss:',losses['train'],'Validation Loss:',losses['valid'])\n",
        "\n",
        "    xb,yb = get_batch('train', train_data, valid_data, BATCH_SIZE, CONTEXT_LEN)\n",
        "    logits, loss = model(xb,yb)\n",
        "    optimizer.zero_grad(set_to_none=True)\n",
        "    loss.backward()\n",
        "    optimizer.step()\n",
        "\n",
        "context = torch.zeros((1,1), dtype=torch.long, device=DEVICE)"
      ]
    },
    {
      "cell_type": "code",
      "execution_count": 6,
      "metadata": {},
      "outputs": [
        {
          "name": "stdout",
          "output_type": "stream",
          "text": [
            "[Branch1][C][C][Ring2][#Branch2][Branch1][C][C][C][C@@H1][C][C][C][=C][Ring1][=Branch1][O][Ring1][=Branch1][N][C][=C][C][=C][C][=C][Ring1][=Branch1][N][Branch1][C][=C][C][C@H1][Branch1][=C][C][=C][Branch1][C][C][C][=C][Ring1][=Branch1][C][C][C][Branch1][Ring1][=Branch1][C][=Branch1][C][C][C][Branch1][C][C][Branch1][C][C][C][C][C][C][C][C][C][C][C][C][Branch1][C][C][Branch1][C][C][C][C][C].[Li][Branch1][Ring2][O][/C][C][Branch1][Ring2][Ring1][C@H1][N][C][=C][Ring1][N][Ring2][O][FH0][N][Ring2][C][=Branch1][C][=C][Branch1][C][C][C][C][=C][C][N][=Branch1][Branch1][Ring1][=Branch1][Branch1][C][C][C][C][C][Branch1][C][C][C][C][=C][Ring1][#C][C][I][C][=C][Ring2][=Branch1][C][=C][C][=Branch1][C][=C][Ring1][=Branch1][N][Branch2][Ring2][Ring1][=Branch1][N][Branch1][S][Ring2][Ring2][Branch1][C][=Branch1][Ring2][Ring2][Branch1][C][=Branch1][Branch1][C][C][C][C][C][C][C][Cl][Branch1][C][C][C][C][Branch1][C][C][C][C][C][C][C][Branch1][C][C][Ring2][#Branch1][C][C][C][C][Branch2][Ring2][Ring1][C][C][C][C].\n"
          ]
        }
      ],
      "source": [
        "new_structure = model.generate(context,max_new_tokens=200)[0].tolist()\n",
        "new_structure_decode = t.decode(new_structure, loaded_vocab).split('[^]')\n",
        "\n",
        "for ch in new_structure_decode:\n",
        "  print(ch)"
      ]
    },
    {
      "cell_type": "markdown",
      "metadata": {
        "id": "EEAZ82oFpyy6"
      },
      "source": [
        "## Results"
      ]
    },
    {
      "cell_type": "code",
      "execution_count": 7,
      "metadata": {
        "colab": {
          "base_uri": "https://localhost:8080/"
        },
        "id": "1pQkWGnH4Tjq",
        "outputId": "55d4f3c0-3847-4e7c-b5b8-5286ef313f5b"
      },
      "outputs": [
        {
          "data": {
            "text/plain": [
              "['C1=CCCC2[C@@H1]3CCC=C2O3.[Li](O/CC)C=C1']"
            ]
          },
          "execution_count": 7,
          "metadata": {},
          "output_type": "execute_result"
        }
      ],
      "source": [
        "output_smi = []\n",
        "for el in new_structure_decode:\n",
        "  output_smi.append(sf.decoder(el))\n",
        "output_smi"
      ]
    },
    {
      "cell_type": "code",
      "execution_count": 9,
      "metadata": {
        "colab": {
          "base_uri": "https://localhost:8080/",
          "height": 317
        },
        "id": "Wd_9gb8j45pt",
        "outputId": "6707b9d5-d5a5-4645-f967-248abe7fe3ef"
      },
      "outputs": [
        {
          "name": "stderr",
          "output_type": "stream",
          "text": [
            "[13:58:55] unsupported number of radical electrons 5\n"
          ]
        },
        {
          "data": {
            "image/jpeg": "[encoded data removed]",
            "image/png": "[encoded data removed]",
            "text/plain": [
              "<PIL.PngImagePlugin.PngImageFile image mode=RGB size=300x300>"
            ]
          },
          "execution_count": 9,
          "metadata": {},
          "output_type": "execute_result"
        }
      ],
      "source": [
        "from rdkit import Chem\n",
        "from rdkit.Chem import Draw\n",
        "\n",
        "import numpy as np\n",
        "\n",
        "m = Chem.MolFromSmiles(output_smi[-1])\n",
        "img = Draw.MolToImage(m)\n",
        "img"
      ]
    }
  ],
  "metadata": {
    "accelerator": "GPU",
    "colab": {
      "gpuType": "T4",
      "provenance": [],
      "toc_visible": true
    },
    "kernelspec": {
      "display_name": "Python 3",
      "name": "python3"
    },
    "language_info": {
      "codemirror_mode": {
        "name": "ipython",
        "version": 3
      },
      "file_extension": ".py",
      "mimetype": "text/x-python",
      "name": "python",
      "nbconvert_exporter": "python",
      "pygments_lexer": "ipython3",
      "version": "3.11.5"
    }
  },
  "nbformat": 4,
  "nbformat_minor": 0
}
