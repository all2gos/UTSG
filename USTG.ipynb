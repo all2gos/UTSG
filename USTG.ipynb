{
  "cells": [
    {
      "cell_type": "markdown",
      "metadata": {
        "id": "RWQW6-BequN-"
      },
      "source": [
        "# USTG"
      ]
    },
    {
      "cell_type": "code",
      "source": [
        "pip install selfies"
      ],
      "metadata": {
        "colab": {
          "base_uri": "https://localhost:8080/"
        },
        "id": "iEq4bV2C1a5R",
        "outputId": "09b7fe07-758b-44ab-fae1-9b87df3d447e"
      },
      "execution_count": 4,
      "outputs": [
        {
          "output_type": "stream",
          "name": "stdout",
          "text": [
            "Collecting selfies\n",
            "  Downloading selfies-2.1.1-py3-none-any.whl (35 kB)\n",
            "Installing collected packages: selfies\n",
            "Successfully installed selfies-2.1.1\n"
          ]
        }
      ]
    },
    {
      "cell_type": "code",
      "execution_count": 8,
      "metadata": {
        "id": "fh2G4D9eh1_E"
      },
      "outputs": [],
      "source": [
        "import torch\n",
        "import torch.nn as nn\n",
        "from torch.nn import functional as F\n",
        "import time\n",
        "import pandas as pd\n",
        "import selfies as sf\n",
        "import re"
      ]
    },
    {
      "cell_type": "markdown",
      "source": [
        "## Data Preparation"
      ],
      "metadata": {
        "id": "CKcDiIa4pd1R"
      }
    },
    {
      "cell_type": "code",
      "source": [
        "pd.options.mode.chained_assignment = None\n",
        "\n",
        "SMILESdb = pd.read_csv('sample_db_only_smiles.csv')\n",
        "print(SMILESdb.shape)\n",
        "SMILESdb.head()\n",
        "\n",
        "for el in range(len(SMILESdb.smiles)):\n",
        "    try:\n",
        "        SMILESdb.smiles.iloc[el] = (sf.encoder(SMILESdb.smiles[el]))\n",
        "    except:\n",
        "        SMILESdb.smiles.iloc[el] = ''\n",
        "\n",
        "SMILES = SMILESdb.loc[SMILESdb['smiles'] != '']\n",
        "#~7000 molecules drops out\n",
        "SMILES.head(20)\n",
        "\n",
        "s = \"\"\n",
        "for row in range(len(SMILESdb)):\n",
        "    s += SMILESdb['smiles'][row] + '\\n'\n",
        "\n",
        "with open('sample.txt', 'w') as file:\n",
        "    # Zapisywanie stringa do pliku\n",
        "    file.write(s)\n",
        "\n",
        "bag_of_chem = []\n",
        "for el in range(len(SMILESdb)):\n",
        "    bag_of_chem += '[^]'\n",
        "    bag_of_chem += SMILESdb.smiles[el]\n",
        "print(bag_of_chem[:20])"
      ],
      "metadata": {
        "id": "blOmjwI2pk5w"
      },
      "execution_count": null,
      "outputs": []
    },
    {
      "cell_type": "markdown",
      "source": [
        "## Tokenization"
      ],
      "metadata": {
        "id": "jOcZ5xjKpmKW"
      }
    },
    {
      "cell_type": "code",
      "source": [
        "def from_selfies_to_bpe_selfies(pairs, bag_of_chem):\n",
        "\n",
        "    sample_smiles = ''.join(bag_of_chem)\n",
        "    print(len(sample_smiles))\n",
        "\n",
        "    pattern = r\"(\\[[^\\]]+]|Br?|Cl?|N|O|S|P|F|I|b|c|n|o|s|p|\\(|\\)|\\.|=|#|-|\\+|\\\\\\\\|\\/|:|~|@|\\?|>|\\*|\\$|\\%[0-9]{2}|[0-9])\"\n",
        "    regex = re.compile(pattern)\n",
        "\n",
        "    tokens = regex.findall(sample_smiles)\n",
        "\n",
        "    new_token = []\n",
        "\n",
        "    pairs = sorted(pairs, key=len, reverse=True)\n",
        "    i = 0\n",
        "    while i < len(tokens):\n",
        "        matched_pair = None\n",
        "        for pair in pairs:\n",
        "            # Sprawdzamy, czy kolejne tokeny tworzą parę zdefiniowaną w pairs\n",
        "\n",
        "            if ''.join(tokens[i:i+len(pair)]) == ''.join(pair):\n",
        "\n",
        "                matched_pair = ''.join(pair)\n",
        "                break\n",
        "        if matched_pair:\n",
        "            new_token.append(matched_pair)\n",
        "            i += len(pair)\n",
        "        else:\n",
        "            new_token.append(tokens[i])\n",
        "            i += 1\n",
        "\n",
        "    return new_token\n",
        "\n",
        "p = [['[C]', '[=C]'],\n",
        "['[C]', '[C]'],\n",
        "['[C]', '[=C]', '[C]', '[=C]'],\n",
        "['[Branch1]', '[C]', '[C]'],\n",
        "['[Ring1]', '[=Branch1]'],\n",
        "['[C]', '[=C]', '[Ring1]', '[=Branch1]'],\n",
        "['[Branch1]', '[C]'],\n",
        "['[C]', '[=C]', '[C]', '[=C]', '[C]', '[=C]', '[Ring1]', '[=Branch1]'],\n",
        "['[Branch1]', '[=Branch2]'],\n",
        "['[Branch1]', '[C]', '[C]', '[C]'],\n",
        "['[Branch2]', '[Ring1]'],\n",
        "['.[H]'],\n",
        "['[C]', '[=Branch1]'],\n",
        "['[H]'],\n",
        "['[C]', '[Branch1]', '[C]', '[C]', '[C]'],\n",
        "['[Branch1]', '[Ring1]'],\n",
        "['[Branch1]', '[C]', '[C]', '[Branch1]', '[C]', '[C]', '[C]'],\n",
        "['[CH0]', '[OH0]'],\n",
        "['[Branch1]', '[=Branch2]', '[C]', '[=C]', '[C]', '[=C]', '[C]', '[=C]', '[Ring1]', '[=Branch1]'],\n",
        "['[C]', '[=C]', '[C]', '[=C]', '[Ring1]', '[=Branch1]'],\n",
        "['[C]', '[=C]', '[Branch1]'],\n",
        "['[C]', '[C]', '[C]', '[C]'],\n",
        "['[Ring2]', '[Ring1]'],\n",
        "['[Branch1]', '[Ring1]', '[CH0]', '[OH0]'],\n",
        "['[Branch1]', '[C]', '[F]'],\n",
        "['[Ring1]', '[Branch1]']]\n",
        "\n",
        "df = from_selfies_to_bpe_selfies(p, bag_of_chem)\n",
        "\n",
        "print(df[:10])\n",
        "\n",
        "print(len(df))\n",
        "\n",
        "\n",
        "vocab = sorted(list(set(df)), key=len, reverse=True)\n",
        "\n",
        "char_to_token = {char:idx for idx,char in enumerate(vocab)}\n",
        "token_to_char = {idx:char for char,idx in char_to_token.items()}\n",
        "encode = lambda x: [char_to_token[char] for char in x]\n",
        "decode = lambda idxs: ''.join([token_to_char[idx] for idx in idxs])\n",
        "\n",
        "encoded_text = torch.tensor(encode(df))\n",
        "print('Encoded Text shape:',encoded_text.shape, 'Encoded Text Dtype:', encoded_text.dtype)\n",
        "\n",
        "train_test_split = 0.9\n",
        "train_data = encoded_text[:int(train_test_split*len(encoded_text))]\n",
        "valid_data = encoded_text[int(train_test_split*len(encoded_text)):]\n",
        "print('Train data length:',len(train_data),'Valid data length:',len(valid_data))"
      ],
      "metadata": {
        "colab": {
          "base_uri": "https://localhost:8080/"
        },
        "id": "0wB5ca8T0SFD",
        "outputId": "9384f17b-aa68-45db-964c-f3c30fdb6de6"
      },
      "execution_count": 9,
      "outputs": [
        {
          "output_type": "stream",
          "name": "stdout",
          "text": [
            "(29547, 3)\n",
            "['[', '^', ']', '[', 'I', 'n', ']', '[', 'B', 'r', 'a', 'n', 'c', 'h', '2', ']', '[', 'R', 'i', 'n']\n",
            "10190939\n",
            "['[^]', '[In]', '[Branch2][Ring1]', '[=C]', '[C]', '[Branch1][=Branch2]', '[Si]', '[Branch1][C][C][Branch1][C][C][C]', '[Branch1][=Branch2]', '[Si]']\n",
            "1151877\n",
            "Encoded Text shape: torch.Size([1151877]) Encoded Text Dtype: torch.int64\n",
            "Train data length: 1036689 Valid data length: 115188\n"
          ]
        }
      ]
    },
    {
      "cell_type": "markdown",
      "source": [
        "## Architecture"
      ],
      "metadata": {
        "id": "82YzLYRMpqon"
      }
    },
    {
      "cell_type": "code",
      "execution_count": 10,
      "metadata": {
        "id": "55SrQXBCg3Ri"
      },
      "outputs": [],
      "source": [
        "#whole transformer architecture\n",
        "\n",
        "class Head(nn.Module):\n",
        "    \"\"\" single head of self attention \"\"\"\n",
        "    def __init__(self):\n",
        "        super().__init__()\n",
        "        self.key_layer   = nn.Linear(in_features=EMBEDDING_DIM, out_features=HEAD_SIZE, bias=False)\n",
        "        self.query_layer = nn.Linear(in_features=EMBEDDING_DIM, out_features=HEAD_SIZE, bias=False)\n",
        "        self.value_layer = nn.Linear(in_features=EMBEDDING_DIM, out_features=HEAD_SIZE, bias=False)\n",
        "\n",
        "        self.register_buffer('tril', torch.tril(torch.ones((CONTEXT_LEN, CONTEXT_LEN))))\n",
        "        self.dropout = nn.Dropout(DROPOUT)\n",
        "    def forward(self, x):\n",
        "        B,T,C = x.shape\n",
        "        q = self.query_layer(x) #(B,T,C)\n",
        "        k = self.key_layer(x) #(B,T,C)\n",
        "        v = self.value_layer(x) #(B,T,C)\n",
        "\n",
        "        #compute scores based on affinities\n",
        "        weights = (q @ k.transpose(-2,-1)) * HEAD_SIZE**-0.5\n",
        "        weights = weights.masked_fill(self.tril[:T,:T] == 0, float('-inf'))\n",
        "        weights = F.softmax(input=weights, dim=-1)\n",
        "        weights = self.dropout(weights)\n",
        "\n",
        "\n",
        "        out = weights @ v\n",
        "        return out\n",
        "\n",
        "\n",
        "class MultiHeadAttention(nn.Module):\n",
        "    def __init__(self):\n",
        "        super().__init__()\n",
        "        self.heads = nn.ModuleList([Head() for _ in range(NUM_HEADS)])\n",
        "        self.projections = nn.Linear(EMBEDDING_DIM, EMBEDDING_DIM)\n",
        "        self.dropout = nn.Dropout(DROPOUT)\n",
        "\n",
        "    def forward(self, x):\n",
        "        out = torch.cat([h(x) for h in self.heads], dim=-1)\n",
        "        return self.projections(out)\n",
        "\n",
        "class Block(nn.Module):\n",
        "    \"\"\"Transformer Block: Communication folled by computation.\"\"\"\n",
        "    def __init__(self):\n",
        "        super().__init__()\n",
        "\n",
        "        self.multi_self_attention_heads_layer = MultiHeadAttention()\n",
        "        self.feed_forward_network = FeedForwardNetwork(EMBEDDING_DIM)\n",
        "        self.layer_norm1 = nn.LayerNorm(EMBEDDING_DIM)\n",
        "        self.layer_norm2 = nn.LayerNorm(EMBEDDING_DIM)\n",
        "    def forward(self, x):\n",
        "        x = x + self.multi_self_attention_heads_layer(self.layer_norm1(x))\n",
        "        x = x + self.feed_forward_network(self.layer_norm2(x))\n",
        "        return x\n",
        "\n",
        "class FeedForwardNetwork(nn.Module):\n",
        "    \"\"\"A simple linear network followed by a non-linearity\"\"\"\n",
        "    def __init__(self, EMBEDDING_DIM):\n",
        "        super().__init__()\n",
        "        self.ffn = nn.Sequential(\n",
        "            nn.Linear(in_features=EMBEDDING_DIM, out_features=EMBEDDING_DIM*4),\n",
        "            nn.ReLU(),\n",
        "            nn.Linear(4*EMBEDDING_DIM, EMBEDDING_DIM),\n",
        "            nn.Dropout(DROPOUT)\n",
        "        )\n",
        "    def forward(self, x):\n",
        "        return self.ffn(x)\n",
        "\n",
        "\n",
        "class TransformerLanguageModel(nn.Module):\n",
        "    def __init__(self):\n",
        "        super().__init__()\n",
        "        self.token_embedding_table = nn.Embedding(num_embeddings=VOCAB_SIZE, embedding_dim=EMBEDDING_DIM)\n",
        "        self.position_embedding_table = nn.Embedding(CONTEXT_LEN, EMBEDDING_DIM)\n",
        "\n",
        "        self.blocks = nn.Sequential(*(Block() for _ in range(N_LAYER)))\n",
        "        self.layer_norm = nn.LayerNorm(EMBEDDING_DIM)\n",
        "        self.language_model_head_linear_layer = nn.Linear(EMBEDDING_DIM, VOCAB_SIZE)\n",
        "\n",
        "    def forward(self, idx, targets=None):\n",
        "\n",
        "        B, T = idx.shape\n",
        "        token_embeddings = self.token_embedding_table(idx)\n",
        "        pos_embedding = self.position_embedding_table(torch.arange(T, device=DEVICE))\n",
        "        x = token_embeddings + pos_embedding #the x does not contain only information about the value of the token, but also about its position which is in line with the assumptions of the transformer architecture\n",
        "        x = self.blocks(x)\n",
        "        logits = self.language_model_head_linear_layer(x)\n",
        "\n",
        "        if targets is not None:\n",
        "            B,T,C = logits.shape\n",
        "            logits_reshaped = logits.view(B*T,C)\n",
        "            targets_reshaped = targets.view(B*T)\n",
        "            loss = F.cross_entropy(input=logits_reshaped, target=targets_reshaped)\n",
        "        else:\n",
        "            loss=None\n",
        "        return logits, loss\n",
        "\n",
        "    def generate(self, idx, max_new_tokens):\n",
        "        for _ in range(max_new_tokens):\n",
        "            idx_crop = idx[:,-CONTEXT_LEN:]\n",
        "            logits, loss = self(idx_crop)\n",
        "            logits_last_timestep = logits[:,-1,:]\n",
        "            probs = F.softmax(input=logits_last_timestep, dim=-1)\n",
        "            idx_next = torch.multinomial(input=probs, num_samples=1)\n",
        "            idx = torch.cat((idx, idx_next), dim=1)\n",
        "        return idx\n",
        "\n"
      ]
    },
    {
      "cell_type": "code",
      "execution_count": 11,
      "metadata": {
        "id": "l0nsM-b2hX_4"
      },
      "outputs": [],
      "source": [
        "def get_batch(split, batch_size, context_length):\n",
        "    data = train_data if split == 'train' else valid_data\n",
        "\n",
        "    idxs = torch.randint(low=0, high=len(data)-CONTEXT_LEN, size=(BATCH_SIZE,))\n",
        "    x = torch.stack([data[idx:idx+CONTEXT_LEN] for idx in idxs])\n",
        "    y = torch.stack([data[idx+1:idx+CONTEXT_LEN+1] for idx in idxs])\n",
        "    x,y = x.to(DEVICE), y.to(DEVICE)\n",
        "    return x,y\n",
        "\n",
        "@torch.no_grad()\n",
        "def estimate_loss():\n",
        "    out = {}\n",
        "    #turn on evaluation mode\n",
        "    model.eval()\n",
        "    for split in ['train','valid']:\n",
        "        losses = torch.zeros(EVAL_ITERS)\n",
        "        for k in range(EVAL_ITERS):\n",
        "            x_batch, y_batch = get_batch(split, BATCH_SIZE, CONTEXT_LEN)\n",
        "            logits, loss = model(x_batch, y_batch)\n",
        "            losses[k] = loss.item()\n",
        "        out[split] = losses.mean()\n",
        "    #turn back to training mode\n",
        "    model.train()\n",
        "    return out"
      ]
    },
    {
      "cell_type": "code",
      "execution_count": 13,
      "metadata": {
        "id": "xKkMzx9FhrZT"
      },
      "outputs": [],
      "source": [
        "#hyperparameter board\n",
        "\n",
        "BATCH_SIZE = 8 #number of token chunks per batch\n",
        "CONTEXT_LEN = 64 #length of the token chunks\n",
        "LEARNING_RATE = 3e-4\n",
        "MAX_ITERS = 2000 #number of training iterations or steps\n",
        "EVAL_INTERVAL = 300 #number of steps between evaluating the validation set to see how our validation loss is doing.\n",
        "EVAL_ITERS = 200 #number of steps to do on the validation set per each interval. We do more than 1 to get a more accurate overall valid loss\n",
        "DEVICE = 'cuda' if torch.cuda.is_available() else 'cpu' #instead of using the cpu, we'll use the GPU if it's availble.\n",
        "EMBEDDING_DIM = 384 #The vector size of the token embeddings\n",
        "VOCAB_SIZE = len(vocab)\n",
        "TORCH_SEED = 42\n",
        "BLOCK_SIZE = 4\n",
        "NUM_HEADS = 6\n",
        "HEAD_SIZE = int(EMBEDDING_DIM/NUM_HEADS)\n",
        "\n",
        "DROPOUT = 0.2\n",
        "N_LAYER = 6\n",
        "\n",
        "model = TransformerLanguageModel()"
      ]
    },
    {
      "cell_type": "markdown",
      "source": [
        "## Training"
      ],
      "metadata": {
        "id": "P7TE5CsVpw-d"
      }
    },
    {
      "cell_type": "code",
      "execution_count": 14,
      "metadata": {
        "colab": {
          "base_uri": "https://localhost:8080/"
        },
        "id": "VD-5imbRiFBK",
        "outputId": "697244d4-f2e9-42f2-9b65-356fb8a8901f"
      },
      "outputs": [
        {
          "output_type": "stream",
          "name": "stdout",
          "text": [
            "Step: 0 Training Loss: tensor(6.8345) Validation Loss: tensor(6.8409)\n",
            "Step: 200 Training Loss: tensor(2.8862) Validation Loss: tensor(2.8320)\n",
            "Step: 400 Training Loss: tensor(2.5769) Validation Loss: tensor(2.5753)\n",
            "Step: 600 Training Loss: tensor(2.4101) Validation Loss: tensor(2.4116)\n",
            "Step: 800 Training Loss: tensor(2.2801) Validation Loss: tensor(2.3087)\n",
            "Step: 1000 Training Loss: tensor(2.2091) Validation Loss: tensor(2.1985)\n",
            "Step: 1200 Training Loss: tensor(2.1347) Validation Loss: tensor(2.1648)\n",
            "Step: 1400 Training Loss: tensor(2.1030) Validation Loss: tensor(2.1284)\n",
            "Step: 1600 Training Loss: tensor(2.0493) Validation Loss: tensor(2.0798)\n",
            "Step: 1800 Training Loss: tensor(1.9966) Validation Loss: tensor(2.0365)\n",
            "Step: 1999 Training Loss: tensor(1.9705) Validation Loss: tensor(2.0126)\n",
            "\n",
            "[Branch1][=Branch2][C][=C][C][=C][C][=C][Ring1][=Branch1][C][=C][C][=C][C][=C][Ring1][=Branch1].[FH0].[CH1][CH0][H].[CH1].[H].[H].[CH2].[CH1].[CH1].[H].[CH1].[H].[H].[H].[CH3].[CH3].[CH1].[H].[CH3].[CH3].[H].[CH3].[H].[H].[CH3].[CH3].[H][^][^][Cr][Branch2][Ring1][Branch2][CH0][N][Branch2][Ring1][Branch2][C][=C][N][Ring1][Branch1][C][=C][Branch1][O][C][=C][Branch1][=Branch1][C][=C][Ring1][=Branch1][C][C][C][C][=C][C][^][Mo][Branch2][Ring1][Ring1][O][C][=C][C][=C][Branch1][Branch1][C][=C][Ring1][=Branch1][C][C][=C][Ring1][P][C][=Branch1][=N][=C][Branch1][=Branch2][N][Ring1][#Branch2][C][Branch1][C][C][C][C][=C][Branch1][N][C][=C][C][=C][Ring1][=Branch1][C][Branch1][C][C][C][C][Branch1][C][C][C][Branch1][C][C][O][Ring2][Ring1][C][C][=C][Branch1][=N][C][=C][Branch1][#Branch1][C][=C][C][=C][Ring1][=Branch1][O][C][Branch1][C][C][C].[Cl][OH0].[O][C][C][C][C][Ring1][Branch1][^][Re][Branch2][Ring1][=N][PH0][Branch1][O][C][C][N][=C][C][=Branch1][=Branch2][=C][Branch1][Branch1][N][Ring1][#Branch2][C][C][=C][Ring1][=N][C][=C][Branch1][#Branch1][C][=Branch1][N][=C][Ring1][Branch1][C][C][Branch1][C][C][C][C].[ClH0].[Branch1][C][Cl][Cl].[Cl][C][Cl].[Cl][C][Branch1][C][Cl][Cl][^][Pt][Branch1][=Branch2][PH0][Branch2][Ring1][=Branch2][C][C][S][PH0][Branch1][=C][C][C][C][C][C][Ring1][=Branch1][Branch2][Ring1][=C][PH0][Branch1][=Branch2][C][=C][C][=C][C][=C][Ring1][=Branch1][Branch1][=Branch2][C][=C][C][=C][C][=C][Ring1][=Branch1][C][=C][C][=C][C][=C][Ring1][=Branch1][CH0][N][Branch2][Ring1][Ring1][C][=C][Branch1][#Branch2][C][=Branch1][=Branch1][=C][C][=C][Ring1][=Branch1][C][C][C]\n"
          ]
        }
      ],
      "source": [
        "#conventional training loop\n",
        "model = TransformerLanguageModel()\n",
        "model = model.to(DEVICE)\n",
        "optimizer = torch.optim.AdamW(params=model.parameters(), lr=LEARNING_RATE)\n",
        "best_val_loss = 10\n",
        "\n",
        "for step in range(MAX_ITERS):\n",
        "\n",
        "    if step % EVAL_ITERS == 0 or step == MAX_ITERS-1:\n",
        "        losses = estimate_loss()\n",
        "        print('Step:',step,'Training Loss:',losses['train'],'Validation Loss:',losses['valid'])\n",
        "\n",
        "    xb,yb = get_batch('train',BATCH_SIZE,CONTEXT_LEN)\n",
        "    logits, loss = model(xb,yb)\n",
        "    optimizer.zero_grad(set_to_none=True)\n",
        "    loss.backward()\n",
        "    optimizer.step()\n",
        "\n",
        "context = torch.zeros((1,1), dtype=torch.long, device=DEVICE)\n",
        "print()\n",
        "print(decode(model.generate(context,max_new_tokens=200)[0].tolist()))"
      ]
    },
    {
      "cell_type": "markdown",
      "source": [
        "## Results"
      ],
      "metadata": {
        "id": "EEAZ82oFpyy6"
      }
    },
    {
      "cell_type": "code",
      "source": [
        "output = '[Branch1][=Branch2][C][=C][C][=C][C][=C][Ring1][=Branch1][C][=C][C][=C][C][=C][Ring1][=Branch1].[FH0].[CH1][CH0][H].[CH1].[H].[H].[CH2].[CH1].[CH1].[H].[CH1].[H].[H].[H].[CH3].[CH3].[CH1].[H].[CH3].[CH3].[H].[CH3].[H].[H].[CH3].[CH3].[H][^][^][Cr][Branch2][Ring1][Branch2][CH0][N][Branch2][Ring1][Branch2][C][=C][N][Ring1][Branch1][C][=C][Branch1][O][C][=C][Branch1][=Branch1][C][=C][Ring1][=Branch1][C][C][C][C][=C][C][^][Mo][Branch2][Ring1][Ring1][O][C][=C][C][=C][Branch1][Branch1][C][=C][Ring1][=Branch1][C][C][=C][Ring1][P][C][=Branch1][=N][=C][Branch1][=Branch2][N][Ring1][#Branch2][C][Branch1][C][C][C][C][=C][Branch1][N][C][=C][C][=C][Ring1][=Branch1][C][Branch1][C][C][C][C][Branch1][C][C][C][Branch1][C][C][O][Ring2][Ring1][C][C][=C][Branch1][=N][C][=C][Branch1][#Branch1][C][=C][C][=C][Ring1][=Branch1][O][C][Branch1][C][C][C].[Cl][OH0].[O][C][C][C][C][Ring1][Branch1][^][Re][Branch2][Ring1][=N][PH0][Branch1][O][C][C][N][=C][C][=Branch1][=Branch2][=C][Branch1][Branch1][N][Ring1][#Branch2][C][C][=C][Ring1][=N][C][=C][Branch1][#Branch1][C][=Branch1][N][=C][Ring1][Branch1][C][C][Branch1][C][C][C][C].[ClH0].[Branch1][C][Cl][Cl].[Cl][C][Cl].[Cl][C][Branch1][C][Cl][Cl][^][Pt][Branch1][=Branch2][PH0][Branch2][Ring1][=Branch2][C][C][S][PH0][Branch1][=C][C][C][C][C][C][Ring1][=Branch1][Branch2][Ring1][=C][PH0][Branch1][=Branch2][C][=C][C][=C][C][=C][Ring1][=Branch1][Branch1][=Branch2][C][=C][C][=C][C][=C][Ring1][=Branch1][C][=C][C][=C][C][=C][Ring1][=Branch1][CH0][N][Branch2][Ring1][Ring1][C][=C][Branch1][#Branch2][C][=Branch1][=Branch1][=C][C][=C][Ring1][=Branch1][C][C][C]'\n",
        "\n",
        "output = output.split('[^]')\n",
        "\n",
        "output[:-1]\n"
      ],
      "metadata": {
        "colab": {
          "base_uri": "https://localhost:8080/"
        },
        "id": "S3RXGwjD3Y1f",
        "outputId": "6a02e334-d1d9-4137-805b-d67f5eccecad"
      },
      "execution_count": 16,
      "outputs": [
        {
          "output_type": "execute_result",
          "data": {
            "text/plain": [
              "['[Branch1][=Branch2][C][=C][C][=C][C][=C][Ring1][=Branch1][C][=C][C][=C][C][=C][Ring1][=Branch1].[FH0].[CH1][CH0][H].[CH1].[H].[H].[CH2].[CH1].[CH1].[H].[CH1].[H].[H].[H].[CH3].[CH3].[CH1].[H].[CH3].[CH3].[H].[CH3].[H].[H].[CH3].[CH3].[H]',\n",
              " '',\n",
              " '[Cr][Branch2][Ring1][Branch2][CH0][N][Branch2][Ring1][Branch2][C][=C][N][Ring1][Branch1][C][=C][Branch1][O][C][=C][Branch1][=Branch1][C][=C][Ring1][=Branch1][C][C][C][C][=C][C]',\n",
              " '[Mo][Branch2][Ring1][Ring1][O][C][=C][C][=C][Branch1][Branch1][C][=C][Ring1][=Branch1][C][C][=C][Ring1][P][C][=Branch1][=N][=C][Branch1][=Branch2][N][Ring1][#Branch2][C][Branch1][C][C][C][C][=C][Branch1][N][C][=C][C][=C][Ring1][=Branch1][C][Branch1][C][C][C][C][Branch1][C][C][C][Branch1][C][C][O][Ring2][Ring1][C][C][=C][Branch1][=N][C][=C][Branch1][#Branch1][C][=C][C][=C][Ring1][=Branch1][O][C][Branch1][C][C][C].[Cl][OH0].[O][C][C][C][C][Ring1][Branch1]',\n",
              " '[Re][Branch2][Ring1][=N][PH0][Branch1][O][C][C][N][=C][C][=Branch1][=Branch2][=C][Branch1][Branch1][N][Ring1][#Branch2][C][C][=C][Ring1][=N][C][=C][Branch1][#Branch1][C][=Branch1][N][=C][Ring1][Branch1][C][C][Branch1][C][C][C][C].[ClH0].[Branch1][C][Cl][Cl].[Cl][C][Cl].[Cl][C][Branch1][C][Cl][Cl]']"
            ]
          },
          "metadata": {},
          "execution_count": 16
        }
      ]
    },
    {
      "cell_type": "code",
      "source": [
        "output_smi = []\n",
        "for el in output:\n",
        "  output_smi.append(sf.decoder(el))\n",
        "output_smi"
      ],
      "metadata": {
        "colab": {
          "base_uri": "https://localhost:8080/"
        },
        "id": "1pQkWGnH4Tjq",
        "outputId": "55d4f3c0-3847-4e7c-b5b8-5286ef313f5b"
      },
      "execution_count": 21,
      "outputs": [
        {
          "output_type": "execute_result",
          "data": {
            "text/plain": [
              "['C1=CC=CC=C1C2=CC=CC=C2.[FH0].[CH1][CH0][H].[CH1].[H].[H].[CH2].[CH1].[CH1].[H].[CH1].[H].[H].[H].[CH3].[CH3].[CH1].[H].[CH3].[CH3].[H].[CH3].[H].[H].[CH3].[CH3].[H]',\n",
              " '',\n",
              " '[Cr][CH0]1NC=CN1C2=C(C=C(C=C2C)C)CC=CC',\n",
              " '[Mo]1(OC2=CC3=C(C=C2)CC=C1C=C(N3C(C)C)C4)=C(C=CC=C4C(C)C)C(C)C(C)O.Cl[OH0].O5CCCC5',\n",
              " '[Re]12[PH0](CCN=CC=C(N1C)C)=C2C=CC=CCC(C)CC.[ClH0].CCl.ClCCl.ClC(Cl)Cl',\n",
              " '[Pt]([PH0]CCS[PH0]1CCCCC1[PH0](C2=CC=CC=C2)(C3=CC=CC=C3)C4=CC=CC=C4)[CH0]NC5=C(C(=CC=C5)C)CC']"
            ]
          },
          "metadata": {},
          "execution_count": 21
        }
      ]
    },
    {
      "cell_type": "code",
      "source": [
        "pip install rdkit"
      ],
      "metadata": {
        "colab": {
          "base_uri": "https://localhost:8080/"
        },
        "id": "QilZ30Ta4wt0",
        "outputId": "6e078e7c-ba9d-47fb-9df1-4a51ea6ff07e"
      },
      "execution_count": 22,
      "outputs": [
        {
          "output_type": "stream",
          "name": "stdout",
          "text": [
            "Collecting rdkit\n",
            "  Downloading rdkit-2023.9.4-cp310-cp310-manylinux_2_17_x86_64.manylinux2014_x86_64.whl (34.4 MB)\n",
            "\u001b[2K     \u001b[90m━━━━━━━━━━━━━━━━━━━━━━━━━━━━━━━━━━━━━━━━\u001b[0m \u001b[32m34.4/34.4 MB\u001b[0m \u001b[31m14.9 MB/s\u001b[0m eta \u001b[36m0:00:00\u001b[0m\n",
            "\u001b[?25hRequirement already satisfied: numpy in /usr/local/lib/python3.10/dist-packages (from rdkit) (1.25.2)\n",
            "Requirement already satisfied: Pillow in /usr/local/lib/python3.10/dist-packages (from rdkit) (9.4.0)\n",
            "Installing collected packages: rdkit\n",
            "Successfully installed rdkit-2023.9.4\n"
          ]
        }
      ]
    },
    {
      "cell_type": "code",
      "source": [
        "from rdkit import Chem\n",
        "from rdkit.Chem import Draw\n",
        "\n",
        "import numpy as np\n",
        "\n",
        "m = Chem.MolFromSmiles(output_smi[-1])\n",
        "img = Draw.MolToImage(m)\n",
        "img"
      ],
      "metadata": {
        "colab": {
          "base_uri": "https://localhost:8080/",
          "height": 317
        },
        "id": "Wd_9gb8j45pt",
        "outputId": "6707b9d5-d5a5-4645-f967-248abe7fe3ef"
      },
      "execution_count": 57,
      "outputs": [
        {
          "output_type": "execute_result",
          "data": {
            "text/plain": [
              "<PIL.PngImagePlugin.PngImageFile image mode=RGB size=300x300>"
            ],
            "image/png": "[encoded data removed]"
          },
          "metadata": {},
          "execution_count": 57
        }
      ]
    }
  ],
  "metadata": {
    "accelerator": "GPU",
    "colab": {
      "toc_visible": true,
      "provenance": [],
      "gpuType": "T4"
    },
    "kernelspec": {
      "display_name": "Python 3",
      "name": "python3"
    },
    "language_info": {
      "name": "python"
    }
  },
  "nbformat": 4,
  "nbformat_minor": 0
}